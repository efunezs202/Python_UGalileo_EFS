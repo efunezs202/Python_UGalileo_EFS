{
 "cells": [
  {
   "cell_type": "markdown",
   "id": "73be2bcb-8bbe-45c7-8ba3-c1593dd50f96",
   "metadata": {},
   "source": [
    "# Tarea Version Control Systema (GIT)"
   ]
  },
  {
   "cell_type": "markdown",
   "id": "4a78d081-be4f-44dd-bd45-9c36d9b803aa",
   "metadata": {},
   "source": [
    "## Estuardo Funes Solares **Carné 20032042**"
   ]
  },
  {
   "cell_type": "markdown",
   "id": "fdd1bd41-23b8-460a-8464-84e38cf08f28",
   "metadata": {},
   "source": [
    "*08 de febrero de 2022*"
   ]
  },
  {
   "cell_type": "markdown",
   "id": "ba5682a7-715d-4edb-a548-f6dcf841c0b2",
   "metadata": {},
   "source": [
    "#### El siguiente resumen es basado en el link [https://missing.csail.mit.edu//2020/version-control/ "
   ]
  },
  {
   "cell_type": "markdown",
   "id": "7373a334-f6c3-4ef6-b6d5-986cbe1888f0",
   "metadata": {},
   "source": [
    "###### Existen diferentes herramientas para poder llevar un control de cambios en diferentes archivos, proyectos y/o códigos de programación, entre estas están:\n",
    "###### llevar el control de usuarios, cambios realizados, fechas, etc. Esto nos ayuda en caso si queremos trabajar paralelamente sin perder\n",
    "###### lo que estamos haciendo, o si queremos regresar un paso antes de los cambios realizados. Adicional si en caso estamos compartiendo un proyecto, podemos ver\n",
    "###### los cambios que hace la otra persona, así como resolver problemas al mismo tiempo, sin necesidad de esperar que nos envíen lo que trabajo la otra persona.\n",
    "###### Anteriormente cuando 2 personas trabajaban en un mismo proyecto, una de ellas tenía que esperar a que la otra terminara para poder continuar dónde lo había dejado\n",
    "###### y se enviaba un archivo .zip y la otra persona tenía que seguir con su parte y luego volverlo a enviar a la primera persona y continuar. Con estas herramientas\n",
    "###### evitamos estos inconvenientes y ambas personas pueden trabajar al mismo tiempo. "
   ]
  },
  {
   "cell_type": "markdown",
   "id": "6974dd7f-50ff-4d05-af16-5fc830d8998d",
   "metadata": {
    "tags": []
   },
   "source": [
    "###### En el artículo menciona que existen mucho programas para VCS, sin embargo, GIT es el más reconocido, el más popular. \n",
    "###### Para aprender Git lo recomendable es primero enfocarse en los comandos, y luego en la interface,\n",
    "###### ya que no es tan amigable como pensaríamos. Es más fácil entender el modelo y ya luego en el diseño.\n",
    "######  "
   ]
  },
  {
   "cell_type": "markdown",
   "id": "ce722907-6579-4779-a7eb-1cee97ec6600",
   "metadata": {},
   "source": [
    "## Modelo de Datos GIT"
   ]
  },
  {
   "cell_type": "markdown",
   "id": "f1a731be-fc65-42b6-9c3d-c266f0715f2f",
   "metadata": {},
   "source": [
    "###### Git cuenta con un modelo que habilita todas las características que se pueden buscar al momento de tener una herramienta de control de versiones, como por ejemplo:\n",
    "###### guardar el historial, permite trabajar en ramas diferentes, así como trabajo en equipo. GIT nos permite este tipo de interacción al mismo tiempo."
   ]
  },
  {
   "cell_type": "markdown",
   "id": "6cbe77e6-cfd7-495e-b466-7cf9b3ac4ebf",
   "metadata": {},
   "source": [
    "###### Básicamente GIT es un directorio de archivos y folders almacenados de manera ordenada. "
   ]
  },
  {
   "cell_type": "markdown",
   "id": "1548fefe-19bd-4569-b577-07ac75d7d6ff",
   "metadata": {},
   "source": [
    "###### En concepto se puede decir que es similar al directorio de las computadoras, donde tenemos un directorio principal (o disco principal) el cual llamamos\n",
    "###### raíz y este tiene diferentes carpetas y adentro de estas tenemos diferentes archivos. También podemos tener diferentes archivos al nivel de las carpetas.\n",
    "###### El Directorio principal así como las carpetas en GIT reciben el nombre de \"Tree\", mientras que los archivos reciben el nombre de \"Blobs\", el cual significa \"Bunch of Bytes\""
   ]
  },
  {
   "cell_type": "markdown",
   "id": "37796b9a-4b9a-40a7-a98b-a4e75186d809",
   "metadata": {},
   "source": [
    "###### También existe el término Snapshot, el cual es una toma o imagen del conjunto de Trees (directorios y/o carpetas) y Blobs (archivos) que estamos trabajando\n",
    "###### y en el cual podemos duplicar para trabajar en alguna funcionalidad específica y al mismo tiempo poder trabajar paralelamente en algún \"bug (incidente)\" que hayamos\n",
    "###### detectado. Cada Snapshot tiene también metadata como autor, comentarios, etc. Y la manera de identificar los Snapshot es con un HASH de 40 caracteres"
   ]
  },
  {
   "cell_type": "markdown",
   "id": "c1760dfd-ddbd-4c26-87e3-15697b8352fe",
   "metadata": {},
   "source": [
    "<img src= Tree de Git.png>"
   ]
  },
  {
   "cell_type": "code",
   "execution_count": null,
   "id": "4c6ddb6a-dcc6-462e-92f1-388d02029139",
   "metadata": {},
   "outputs": [],
   "source": []
  }
 ],
 "metadata": {
  "kernelspec": {
   "display_name": "Python 3 (ipykernel)",
   "language": "python",
   "name": "python3"
  },
  "language_info": {
   "codemirror_mode": {
    "name": "ipython",
    "version": 3
   },
   "file_extension": ".py",
   "mimetype": "text/x-python",
   "name": "python",
   "nbconvert_exporter": "python",
   "pygments_lexer": "ipython3",
   "version": "3.9.7"
  }
 },
 "nbformat": 4,
 "nbformat_minor": 5
}
