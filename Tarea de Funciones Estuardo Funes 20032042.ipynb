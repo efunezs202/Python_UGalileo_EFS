{
 "cells": [
  {
   "cell_type": "markdown",
   "id": "65a8edae-e996-4ad1-8bdb-75d064144c6f",
   "metadata": {},
   "source": [
    "### Estuardo Funes Solares Carné: 20032042"
   ]
  },
  {
   "cell_type": "markdown",
   "id": "55cf0187-5812-4317-9810-988f24a46c05",
   "metadata": {},
   "source": [
    "#### Funciones en Python"
   ]
  },
  {
   "cell_type": "markdown",
   "id": "f42ffa76-6e27-4a2b-bcb3-b3cc3c6a2f87",
   "metadata": {},
   "source": [
    "###### Son bloques de un programa para hacerlos subprogramas propios que se invocan cada vez que se van a utilizar, esto para no hacer un\n",
    "###### un gran bloque de código y no estar repitiendo el mismo bloque y no lo tenga que escribir 3, 4 veces. Se escribe una vez y se define en una función\n",
    "###### y solo se llama cada vez que la necesitamos utilizar.\n",
    "\n",
    "###### Entre lo más destacada de las funciones, es que pueden llevar uno o varios argumentos.\n",
    "###### También es importante destacar que se pueden llamar desde otras expresiones como \"Print\"\n",
    "###### También utilizando un signo de interrogación \"?\" podemos ver más detalle para que se utiliza la función"
   ]
  },
  {
   "cell_type": "markdown",
   "id": "a3cceaf8-7492-4b3a-bec0-e36bd94e0c97",
   "metadata": {},
   "source": [
    "### 1. Función DEF"
   ]
  },
  {
   "cell_type": "code",
   "execution_count": 1,
   "id": "3ef6c0fa-824a-49e6-bfaa-4ffde100e385",
   "metadata": {},
   "outputs": [],
   "source": [
    "def raizcuadrada (n):\n",
    "    \"\"\"\n",
    "    Esta función calcula la raíz cuadrada de un número\n",
    "    \"\"\"\n",
    "    return n ** (1/2)\n"
   ]
  },
  {
   "cell_type": "code",
   "execution_count": 2,
   "id": "9599aaa0-b1fc-479d-a9d1-d1e9d877af2b",
   "metadata": {},
   "outputs": [
    {
     "data": {
      "text/plain": [
       "113.89907813498755"
      ]
     },
     "execution_count": 2,
     "metadata": {},
     "output_type": "execute_result"
    }
   ],
   "source": [
    "raizcuadrada (12973)"
   ]
  },
  {
   "cell_type": "code",
   "execution_count": 10,
   "id": "d7ac799c-2e13-4d7b-89d9-a1d753a9637a",
   "metadata": {},
   "outputs": [
    {
     "name": "stdout",
     "output_type": "stream",
     "text": [
      "La raiz cuadrada de 12973 es 113.89907813498755\n"
     ]
    }
   ],
   "source": [
    "print (\"La raiz cuadrada de 12973 es\", raizcuadrada (12973))"
   ]
  },
  {
   "cell_type": "markdown",
   "id": "251199ba-0224-4aea-8d65-7a8747241575",
   "metadata": {},
   "source": [
    "### Signo \"?\" para Funciones"
   ]
  },
  {
   "cell_type": "markdown",
   "id": "861b1793-d785-4636-bdbf-f918b5c8c418",
   "metadata": {},
   "source": [
    "###### El signo de interrogación \"?\" se utiliza para saber más detalle de la función"
   ]
  },
  {
   "cell_type": "code",
   "execution_count": 12,
   "id": "1fe98911-fd3c-4bee-8f07-577728429903",
   "metadata": {},
   "outputs": [
    {
     "data": {
      "text/plain": [
       "\u001b[1;31mSignature:\u001b[0m \u001b[0mraizcuadrada\u001b[0m\u001b[1;33m(\u001b[0m\u001b[0mn\u001b[0m\u001b[1;33m)\u001b[0m\u001b[1;33m\u001b[0m\u001b[1;33m\u001b[0m\u001b[0m\n",
       "\u001b[1;31mDocstring:\u001b[0m Esta función calcula la raíz cuadrada de un número\n",
       "\u001b[1;31mFile:\u001b[0m      c:\\users\\efunes\\appdata\\local\\temp\\ipykernel_92792\\110965328.py\n",
       "\u001b[1;31mType:\u001b[0m      function\n"
      ]
     },
     "metadata": {},
     "output_type": "display_data"
    }
   ],
   "source": [
    "?raizcuadrada"
   ]
  },
  {
   "cell_type": "code",
   "execution_count": 55,
   "id": "cdead3f4-0686-4b42-88f8-d3dee7feb8ac",
   "metadata": {},
   "outputs": [
    {
     "data": {
      "text/plain": [
       "\u001b[1;31mDocstring:\u001b[0m\n",
       "max(iterable, *[, default=obj, key=func]) -> value\n",
       "max(arg1, arg2, *args, *[, key=func]) -> value\n",
       "\n",
       "With a single iterable argument, return its biggest item. The\n",
       "default keyword-only argument specifies an object to return if\n",
       "the provided iterable is empty.\n",
       "With two or more arguments, return the largest argument.\n",
       "\u001b[1;31mType:\u001b[0m      builtin_function_or_method\n"
      ]
     },
     "metadata": {},
     "output_type": "display_data"
    }
   ],
   "source": [
    "?max"
   ]
  },
  {
   "cell_type": "markdown",
   "id": "49664d5b-403e-435a-9f3a-f9a144bb0da3",
   "metadata": {},
   "source": [
    "### 2. Funciones con Múltiples Parámetros"
   ]
  },
  {
   "cell_type": "code",
   "execution_count": 19,
   "id": "0b33c84d-f73e-4ad0-a946-0c7f5a293385",
   "metadata": {},
   "outputs": [],
   "source": [
    "def raizmasgrande (n1, n2, n3):\n",
    "    \"\"\"\n",
    "    Esta función calcula la raiz cuadrada más grande de 3 números diferentes\n",
    "    \"\"\"\n",
    "    r_n1 = n1 ** (1/2)\n",
    "    r_n2 = n2 ** (1/2)\n",
    "    r_n3 = n3 ** (1/2)\n",
    "    \n",
    "    raizmax = r_n1\n",
    "    \n",
    "    if r_n2 > r_n1:\n",
    "        raizmax = r_n2\n",
    "    if r_n3 > r_n2:\n",
    "        raizmax = r_n3\n",
    "        \n",
    "    return raizmax\n"
   ]
  },
  {
   "cell_type": "code",
   "execution_count": 20,
   "id": "ba73eeae-b26a-49c8-8499-8dcce132e69d",
   "metadata": {},
   "outputs": [
    {
     "data": {
      "text/plain": [
       "10.0"
      ]
     },
     "execution_count": 20,
     "metadata": {},
     "output_type": "execute_result"
    }
   ],
   "source": [
    "raizmasgrande (81, 64, 100)"
   ]
  },
  {
   "cell_type": "code",
   "execution_count": 21,
   "id": "d7bde117-f393-4ef9-9bcf-ade0ba5c22fc",
   "metadata": {},
   "outputs": [
    {
     "data": {
      "text/plain": [
       "99.6"
      ]
     },
     "execution_count": 21,
     "metadata": {},
     "output_type": "execute_result"
    }
   ],
   "source": [
    "max(81, 99, 99.5, 99.6)"
   ]
  },
  {
   "cell_type": "markdown",
   "id": "d8cd7f50-5a78-4f9a-8991-22026f12dd94",
   "metadata": {},
   "source": [
    "### 3. Parámetros Posicionales"
   ]
  },
  {
   "cell_type": "markdown",
   "id": "bf5edf7e-e3e4-4a78-924a-249545e0252d",
   "metadata": {},
   "source": [
    "###### Cuando se trata de argumentos posicionales, el número de argumentos a pasar en una función que queremos llamar, tiene que ser exactamente el mismo que el número de parámetros que hemos definido anteriormente en la función."
   ]
  },
  {
   "cell_type": "code",
   "execution_count": 39,
   "id": "9ed49df0-0439-4a4a-9d49-a85a45b50c10",
   "metadata": {},
   "outputs": [],
   "source": [
    "def tasa_de_dolares_a_quetzales (tasa, dolares, quetzales):\n",
    "    quetzales=dolares*tasa\n",
    "    print (dolares, \"USD\", \"a una tasa de\", tasa, \"son\", quetzales, \"QTZ\") "
   ]
  },
  {
   "cell_type": "code",
   "execution_count": 40,
   "id": "1dd87c3b-8901-4493-9f49-ecae7b226c2a",
   "metadata": {},
   "outputs": [
    {
     "name": "stdout",
     "output_type": "stream",
     "text": [
      "100 USD a una tasa de 7.8 son 780.0 QTZ\n"
     ]
    }
   ],
   "source": [
    "tasa_de_dolares_a_quetzales (7.8, 100, 1)"
   ]
  },
  {
   "cell_type": "markdown",
   "id": "fdfddcb8-a2e9-4d96-bb0f-c6eae4276305",
   "metadata": {},
   "source": [
    "#### 3.1 Función sin Parámetros"
   ]
  },
  {
   "cell_type": "markdown",
   "id": "007a6e97-60da-4fc8-a04c-5570953561bd",
   "metadata": {},
   "source": [
    "###### Si la función es llamada con menos argumentos de los definidos, nos dará error, así como si la función es llamada con más argumentos de los definidos \n",
    "###### o sin ningún argumento del todo. A continuación podemos ver en el siguiente ejemplo:"
   ]
  },
  {
   "cell_type": "code",
   "execution_count": 42,
   "id": "a9714437-36b4-4731-bd45-bc90430079fe",
   "metadata": {},
   "outputs": [
    {
     "ename": "TypeError",
     "evalue": "tasa_de_dolares_a_quetzales() missing 1 required positional argument: 'quetzales'",
     "output_type": "error",
     "traceback": [
      "\u001b[1;31m---------------------------------------------------------------------------\u001b[0m",
      "\u001b[1;31mTypeError\u001b[0m                                 Traceback (most recent call last)",
      "\u001b[1;32m~\\AppData\\Local\\Temp/ipykernel_92792/1986445933.py\u001b[0m in \u001b[0;36m<module>\u001b[1;34m\u001b[0m\n\u001b[1;32m----> 1\u001b[1;33m \u001b[0mtasa_de_dolares_a_quetzales\u001b[0m \u001b[1;33m(\u001b[0m\u001b[1;36m7.8\u001b[0m\u001b[1;33m,\u001b[0m \u001b[1;36m100\u001b[0m\u001b[1;33m)\u001b[0m\u001b[1;33m\u001b[0m\u001b[1;33m\u001b[0m\u001b[0m\n\u001b[0m",
      "\u001b[1;31mTypeError\u001b[0m: tasa_de_dolares_a_quetzales() missing 1 required positional argument: 'quetzales'"
     ]
    }
   ],
   "source": [
    "# Si la función es llamada con menos argumentos de los definidos, nos dará error, así como si la función es llamada con más argumentos \n",
    "# o sin ningún argumento. A continuación podemos ver en el siguiente ejemplo:\n",
    "tasa_de_dolares_a_quetzales (7.8, 100)"
   ]
  },
  {
   "cell_type": "markdown",
   "id": "3d5e709f-fcb3-419b-876a-4c307a38cb78",
   "metadata": {},
   "source": [
    "###### Para evitar el error anterior, definimos los parámetros default para que si en caso el usuario no coloca un parámetro no de error, \n",
    "###### si no que toma el valor default:"
   ]
  },
  {
   "cell_type": "code",
   "execution_count": 43,
   "id": "e41888f6-1ec3-4abe-8f6e-29e6f2d6fea8",
   "metadata": {},
   "outputs": [],
   "source": [
    "# Para evitar el error anterior, definimos los parámetros default para que si en caso el usuario no coloca un parámetro no de error, \n",
    "# si no que toma el valor default:\n",
    "def tasa_de_dolares_a_quetzales (tasa=7.75, dolares= 100, quetzales=0):\n",
    "    quetzales=dolares*tasa\n",
    "    print (dolares, \"USD\", \"a una tasa de\", tasa, \"son\", quetzales, \"QTZ\") "
   ]
  },
  {
   "cell_type": "code",
   "execution_count": 45,
   "id": "9197c25c-81ab-44d3-bc0a-3d9d2421d5da",
   "metadata": {},
   "outputs": [
    {
     "name": "stdout",
     "output_type": "stream",
     "text": [
      "34.6384 USD a una tasa de 7.8 son 270.17951999999997 QTZ\n"
     ]
    }
   ],
   "source": [
    "tasa_de_dolares_a_quetzales (7.8, 34.6384)"
   ]
  },
  {
   "cell_type": "markdown",
   "id": "a9951d3d-fce5-4ca1-b5bb-e00ed14fdb6e",
   "metadata": {},
   "source": [
    "#### 3.2 Parámetros múltiples"
   ]
  },
  {
   "cell_type": "markdown",
   "id": "0f510d53-10f6-4f14-8cae-63fc3582ee5c",
   "metadata": {},
   "source": [
    "Es cuando se ingresan \"n\" cantidad de parámetros, no se define la cantidad de argumentos, para eso se utiliza el comodin \"*\" "
   ]
  },
  {
   "cell_type": "code",
   "execution_count": 46,
   "id": "8b435837-c571-45f5-83cb-7d2a323fce53",
   "metadata": {},
   "outputs": [],
   "source": [
    "def promedio_calificaciones(*calificaciones):\n",
    "    promedio = sum(calificaciones)/len(calificaciones)\n",
    "    return promedio"
   ]
  },
  {
   "cell_type": "code",
   "execution_count": 47,
   "id": "47fd28d6-bc1c-4207-9c15-797976a99172",
   "metadata": {},
   "outputs": [
    {
     "data": {
      "text/plain": [
       "76.5"
      ]
     },
     "execution_count": 47,
     "metadata": {},
     "output_type": "execute_result"
    }
   ],
   "source": [
    "promedio_calificaciones (55,97,86,77,45,99)"
   ]
  },
  {
   "cell_type": "markdown",
   "id": "311466e3-0828-4e2f-9618-58d8d3867c14",
   "metadata": {},
   "source": [
    "### El orden de los argumentos posicionales es importante.\n",
    "Además de incluir el número correcto de argumentos, es importante notar el orden en el cual se indican los argumentos.\n",
    "\n",
    "Los argumentos necesitan ser escritos en el orden exacto, en el que se han declarado los parámetros en la definición de la función.\n",
    "\n",
    "Funciona igual que al asignar una variable.\n",
    "\n",
    "Es simple, el primer argumento es el valor del primer parámetro en la definición de la función. El segundo argumento es el valor del segundo parámetro en la definición de la función, y así sucesivamente."
   ]
  },
  {
   "cell_type": "markdown",
   "id": "b4f7fa9c-a9c3-4e0d-998e-1578f2ffd64e",
   "metadata": {},
   "source": [
    "### 3. Parámetros Nombrados"
   ]
  },
  {
   "cell_type": "markdown",
   "id": "50f290e9-daca-4dcb-bc3a-1ddd01309683",
   "metadata": {},
   "source": [
    "###### Esta característica de Python nos permite llamar a la función indicando en cualquier orden los parámetros de la misma, pero debemos especificar en la llamada el nombre del parámetro y el valor a enviarle."
   ]
  },
  {
   "cell_type": "code",
   "execution_count": 34,
   "id": "7c10d6a2-1619-4748-aa2f-2e13f13ec44a",
   "metadata": {},
   "outputs": [],
   "source": [
    "def tasa_de_dolares_a_quetzales (tasa, dolares, quetzales=1):\n",
    "    quetzales=dolares*tasa\n",
    "    print (dolares, \"USD\", \"a una tasa de\", tasa, \"son\", quetzales, \"QTZ\") "
   ]
  },
  {
   "cell_type": "code",
   "execution_count": 37,
   "id": "6563e1b4-8b64-43a3-80df-08446c4bfc9c",
   "metadata": {},
   "outputs": [
    {
     "name": "stdout",
     "output_type": "stream",
     "text": [
      "100 USD a una tasa de 7.8 son 780.0 QTZ\n"
     ]
    }
   ],
   "source": [
    "tasa_de_dolares_a_quetzales (7.8, 100)"
   ]
  },
  {
   "cell_type": "code",
   "execution_count": 38,
   "id": "69c785f1-983d-43d4-9f0d-aa11e7dd88fe",
   "metadata": {},
   "outputs": [
    {
     "name": "stdout",
     "output_type": "stream",
     "text": [
      "100 USD a una tasa de 8 son 800 QTZ\n"
     ]
    }
   ],
   "source": [
    "tasa_de_dolares_a_quetzales (quetzales=1, tasa=8, dolares=100)"
   ]
  },
  {
   "cell_type": "markdown",
   "id": "b55e4722-56cf-4656-b025-8631950d2e3b",
   "metadata": {
    "tags": []
   },
   "source": [
    "### 4. Retorno de Múltiples Valores"
   ]
  },
  {
   "cell_type": "markdown",
   "id": "916cc894-3d35-4647-a98e-bc65ea5ead7f",
   "metadata": {},
   "source": [
    "#### 4.1 Tupla para devolver múltiples valores de una función"
   ]
  },
  {
   "cell_type": "markdown",
   "id": "45ecb13f-b5a0-41ce-8581-006b934f1947",
   "metadata": {},
   "source": [
    "###### Si devolvemos valores de una función separados por una coma, se consideran una tupla. Las tuplas suelen ir entre paréntesis."
   ]
  },
  {
   "cell_type": "code",
   "execution_count": 48,
   "id": "442d9dc8-d2db-481c-9485-7da45edc2a49",
   "metadata": {},
   "outputs": [],
   "source": [
    "def Horas_Minutos_Segundos (x):\n",
    "    \"\"\" Dada una duración en segundos sin fracciones\n",
    "        (la función debe invocarse con números enteros)\n",
    "        se la convierte a horas, minutos y segundos \"\"\"\n",
    "    hrs = x / 3600\n",
    "    min = (x % 3600) / 60\n",
    "    seg = (x % 3600 ) % 60\n",
    "    return (hrs, min, seg)"
   ]
  },
  {
   "cell_type": "code",
   "execution_count": 52,
   "id": "50a6f81f-3b81-4277-8ac0-34c65b5257c0",
   "metadata": {},
   "outputs": [
    {
     "data": {
      "text/plain": [
       "(1.0169444444444444, 1.0166666666666666, 1)"
      ]
     },
     "execution_count": 52,
     "metadata": {},
     "output_type": "execute_result"
    }
   ],
   "source": [
    "Horas_Minutos_Segundos(3661)"
   ]
  },
  {
   "cell_type": "markdown",
   "id": "59774a64-8844-431f-9fab-8fc542aad7d6",
   "metadata": {},
   "source": [
    "#### 4.2 Lista para devolver múltiples valores de una función"
   ]
  },
  {
   "cell_type": "markdown",
   "id": "9cc0e64e-2457-4f28-92d9-ac3ba1b0abea",
   "metadata": {},
   "source": [
    "###### Las listas de Python se utilizan para almacenar diferentes elementos con un nombre común y en posiciones específicas. Las funciones también pueden devolver varios valores en una lista."
   ]
  },
  {
   "cell_type": "code",
   "execution_count": 53,
   "id": "38ea7cc9-376d-479c-97c9-db341c4980bd",
   "metadata": {},
   "outputs": [
    {
     "name": "stdout",
     "output_type": "stream",
     "text": [
      "[6, 7] <class 'list'>\n"
     ]
    }
   ],
   "source": [
    "def return_multi(a):\n",
    "    b = a+1\n",
    "    c = a+2\n",
    "    return [b,c]\n",
    "\n",
    "x = return_multi(5)\n",
    "print(x,type(x))"
   ]
  },
  {
   "cell_type": "markdown",
   "id": "ee687032-c86b-478c-a42d-967f7acd5a33",
   "metadata": {},
   "source": [
    "#### 5. Funciones como objetos y como parámetros de otras funciones"
   ]
  },
  {
   "cell_type": "markdown",
   "id": "ed9241a1-b500-457f-9566-19d230d05f82",
   "metadata": {},
   "source": [
    "###### También podemos llamar a una función dentro de otra función"
   ]
  },
  {
   "cell_type": "code",
   "execution_count": 56,
   "id": "167d4f44-7086-407d-8769-a7a065f23c9d",
   "metadata": {},
   "outputs": [],
   "source": [
    "def cuadrado(x):\n",
    "    return x ** 2\n",
    "\n",
    "def raiz_cuadrada(x):\n",
    "    return x ** 0.5\n",
    "\n",
    "def operar(func, *args):\n",
    "    for n in args:\n",
    "        print(func(n))"
   ]
  },
  {
   "cell_type": "markdown",
   "id": "a7f08e02-3f44-4b8a-ac83-d7ec0a68fc0e",
   "metadata": {},
   "source": [
    "###### Por ejemplo: La función \"operar\" recibe como primer parámetro una función y un número indeterminado de argumentos que serán usados como argumentos de la función recibida: "
   ]
  },
  {
   "cell_type": "code",
   "execution_count": 57,
   "id": "cdde4789-eafa-4f5e-8068-f7a710b277b4",
   "metadata": {},
   "outputs": [
    {
     "name": "stdout",
     "output_type": "stream",
     "text": [
      "4\n",
      "9\n",
      "25\n"
     ]
    }
   ],
   "source": [
    "operar(cuadrado, 2, 3, 5)"
   ]
  },
  {
   "cell_type": "markdown",
   "id": "46143165-7f3d-4e4e-8d25-f7fb88a674d3",
   "metadata": {},
   "source": [
    "#### 6. Funciones Anónimas o Lambda"
   ]
  },
  {
   "cell_type": "markdown",
   "id": "776fcc53-f271-4d66-804e-03968435fb0a",
   "metadata": {},
   "source": [
    "###### Las funciones lambda son una forma corta de declarar funciones pequeñas y simples. También se conocen como anónimas. Las funciones Lambda pueden tener cualquier número de argumentos, pero solo una expresión."
   ]
  },
  {
   "cell_type": "code",
   "execution_count": 58,
   "id": "6d24c9a0-5f0d-4fb2-a388-10ea642714ec",
   "metadata": {},
   "outputs": [
    {
     "name": "stdout",
     "output_type": "stream",
     "text": [
      "9\n"
     ]
    }
   ],
   "source": [
    "# Función Lambda para calcular el cuadrado de un número\n",
    "lambda_square = lambda x: x ** 2\n",
    "print(lambda_square(3)) \n"
   ]
  },
  {
   "cell_type": "code",
   "execution_count": null,
   "id": "69850985-f021-46e8-ba22-91b45d718765",
   "metadata": {},
   "outputs": [],
   "source": []
  }
 ],
 "metadata": {
  "kernelspec": {
   "display_name": "Python 3 (ipykernel)",
   "language": "python",
   "name": "python3"
  },
  "language_info": {
   "codemirror_mode": {
    "name": "ipython",
    "version": 3
   },
   "file_extension": ".py",
   "mimetype": "text/x-python",
   "name": "python",
   "nbconvert_exporter": "python",
   "pygments_lexer": "ipython3",
   "version": "3.9.7"
  }
 },
 "nbformat": 4,
 "nbformat_minor": 5
}
